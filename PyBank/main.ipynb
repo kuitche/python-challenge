{
 "cells": [
  {
   "cell_type": "code",
   "execution_count": 104,
   "id": "cf2881a6-8dc6-47ab-bdf0-c2f93776c458",
   "metadata": {},
   "outputs": [],
   "source": [
    "# Import the necesary libraries for CSV and path\n",
    "from pathlib import Path\n",
    "import csv"
   ]
  },
  {
   "cell_type": "code",
   "execution_count": 105,
   "id": "a8f4dd9c-d746-4b4d-b567-a3f5b70cf845",
   "metadata": {},
   "outputs": [],
   "source": [
    "# Define the path to the input file\n",
    "filepath = Path(\"Resources/budget_data.csv\")"
   ]
  },
  {
   "cell_type": "code",
   "execution_count": 106,
   "id": "3bea5701-259e-4bc4-91e7-1dd1b18cbe76",
   "metadata": {},
   "outputs": [],
   "source": [
    "# Read in the budget data file and separate the header from the contents data for analysis\n",
    "budget_data = []  # the contents of the file will be save in a list\n",
    "with open(filepath,'r') as csvfile:\n",
    "    csvreader = csv.reader(csvfile, delimiter=',')\n",
    "    header = next(csvreader)\n",
    "    for row in csvreader:\n",
    "        budget_data.append(row)\n",
    "csvfile.close()  # closing the file handler"
   ]
  },
  {
   "cell_type": "code",
   "execution_count": 107,
   "id": "0c6e4af1-b824-4460-868a-d2aba894a236",
   "metadata": {},
   "outputs": [],
   "source": [
    "# The total number of months in the dataset is simply the size of the list\n",
    "number_of_months = len(budget_data)"
   ]
  },
  {
   "cell_type": "code",
   "execution_count": 108,
   "id": "86e54305-d812-4e1b-919c-7c63f29a4052",
   "metadata": {},
   "outputs": [],
   "source": [
    "# The net total amount over the entire period is the sum of all Profit/Losses\n",
    "net_total_amount = 0\n",
    "for row in budget_data:\n",
    "    net_total_amount += int(row[1])  # Assuming the profit/losses are integer values"
   ]
  },
  {
   "cell_type": "code",
   "execution_count": 109,
   "id": "e3038804-31c1-4403-be40-759038a48832",
   "metadata": {},
   "outputs": [],
   "source": [
    "# Given the dataset contents budget_data, we wish to build a list of changes in profit/loss (pl)\n",
    "# A change is defined by: change = current_pl - previous_pl\n",
    "# current_pl variable holds the current month profit/loss value;\n",
    "# previous_pl variable holds the previous month profit/loss value\n",
    "\n",
    "# Initialize the list of changes\n",
    "changes = [] \n",
    "# Initialize the previous_pl as the value of the first row; and remove that row.\n",
    "previous_pl = budget_data.pop(0)[1]\n",
    "# Now iterate through the dataset contents from the second row (the first row was previously removed)\n",
    "for row in budget_data:\n",
    "    # Record the current month (date) and the current_pl\n",
    "    current_dat = row[0]\n",
    "    current_pl = row[1]\n",
    "    # Calculate the change between the current pl and the previous pl values\n",
    "    change = int(current_pl) - int(previous_pl)\n",
    "    # Add this change to the list of changes, for the current date\n",
    "    changes.append([current_dat, change])\n",
    "    # Then reset the previous_pl to be the current one \n",
    "    previous_pl = current_pl\n",
    "    # repeat\n"
   ]
  },
  {
   "cell_type": "code",
   "execution_count": 110,
   "id": "7a7e8efc-e743-411a-b926-31e8aa4bc3c9",
   "metadata": {},
   "outputs": [],
   "source": [
    "# Given the list of changes, \n",
    "# We wish to compute the following statistics: minimum (min_pl), maximum (max_pl), and average (average_change) values\n",
    "# average = sum_of_all_changes / number_of_changes\n",
    "key_index = 1  # the key index is the index number for the profit/loss column\n",
    "return_index = 0  # index for the Date column that needs to be tracked\n",
    "# Initialization\n",
    "min_pl = 0\n",
    "max_pl = 0\n",
    "min_dat = \"\" # we also need to track the date/month associated with the min value\n",
    "max_dat = \"\"  # to track the date/month associated with the max value\n",
    "total_change = 0  # to hold the sum_of_all_changes\n",
    "for r in changes:\n",
    "    # sum up all the values for the key index\n",
    "    total_change += int(r[key_index])\n",
    "    # Determine the maximum on the key index, and keep track of the corresponding return index (date/month) value\n",
    "    if max_pl == 0 or r[key_index] > max_pl:\n",
    "        max_pl = r[key_index]\n",
    "        max_dat = r[return_index]\n",
    "    # Determine the minimum on the key index, and keep track of the corresponding return index (date/month) value\n",
    "    elif min_pl == 0 or r[key_index] < min_pl:\n",
    "        min_pl = r[key_index]\n",
    "        min_dat = r[return_index]\n",
    "\n",
    "# Compute the average on the key_index and round to 2 decimal places\n",
    "average_change = round(total_change/len(changes),2)"
   ]
  },
  {
   "cell_type": "code",
   "execution_count": 111,
   "id": "81600c0c-33a0-4823-b10e-39977290a6cf",
   "metadata": {},
   "outputs": [],
   "source": [
    "# This function takes the data and returns a formated output sequence as a list\n",
    "output_line1 = f\"Total Months: {number_of_months}\"\n",
    "output_line2 = f\"Total: ${net_total_amount}\"\n",
    "output_line3 = f\"Average  Change: ${average_change}\"\n",
    "output_line4 = f\"Greatest Increase in Profits: {max_dat} (${max_pl})\"\n",
    "output_line5 = f\"Greatest Decrease in Profits: {min_dat} (${min_pl})\"\n",
    "output = [output_line1, output_line2, output_line3, output_line4, output_line5]"
   ]
  },
  {
   "cell_type": "code",
   "execution_count": 112,
   "id": "fded1387-e4fe-4e09-b4bc-5374a282c321",
   "metadata": {},
   "outputs": [
    {
     "name": "stdout",
     "output_type": "stream",
     "text": [
      "\n",
      "Financial Analysis\n",
      "----------------------------\n",
      "Total Months: 86\n",
      "Total: $38382578\n",
      "Average  Change: $-2315.12\n",
      "Greatest Increase in Profits: Feb-2012 ($1926159)\n",
      "Greatest Decrease in Profits: Sep-2013 ($-2196167)\n"
     ]
    }
   ],
   "source": [
    "# This function takes the output filepath and the output list of items, then print and wite to a CSV file\n",
    "title = f\"Financial Analysis\\n{'-'*28}\"\n",
    "outpath = Path(\"outfile.txt\")\n",
    "outpath.write_text(f\"{title} \\n\")  # we first write the title\n",
    "print(f\"\\n{title}\")\n",
    "with open(outpath,'a') as txtfile:\n",
    "    for r in output:\n",
    "        txtfile.write(r)\n",
    "        txtfile.write(\"\\n\")\n",
    "        print(r)\n",
    "txtfile.close()"
   ]
  },
  {
   "cell_type": "code",
   "execution_count": null,
   "id": "b02843ef-9fca-4678-8cdf-bb842d83581e",
   "metadata": {},
   "outputs": [],
   "source": []
  }
 ],
 "metadata": {
  "kernelspec": {
   "display_name": "Python 3 (ipykernel)",
   "language": "python",
   "name": "python3"
  },
  "language_info": {
   "codemirror_mode": {
    "name": "ipython",
    "version": 3
   },
   "file_extension": ".py",
   "mimetype": "text/x-python",
   "name": "python",
   "nbconvert_exporter": "python",
   "pygments_lexer": "ipython3",
   "version": "3.7.13"
  }
 },
 "nbformat": 4,
 "nbformat_minor": 5
}
